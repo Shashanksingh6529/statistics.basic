{
 "cells": [
  {
   "cell_type": "markdown",
   "id": "a9704ef4-617d-49e5-8750-4e9fcbb96c5f",
   "metadata": {},
   "source": [
    "what is statistics"
   ]
  },
  {
   "cell_type": "code",
   "execution_count": 1,
   "id": "54843d06-cec4-4bf5-bfdd-dd59542132b6",
   "metadata": {},
   "outputs": [
    {
     "data": {
      "text/plain": [
       "'statistics is the science of the colleting,organing,analyzing data'"
      ]
     },
     "execution_count": 1,
     "metadata": {},
     "output_type": "execute_result"
    }
   ],
   "source": [
    "\"statistics is the science of the colleting,organing,analyzing data\""
   ]
  },
  {
   "cell_type": "markdown",
   "id": "99e56c06-9955-4b89-a976-818f666184f2",
   "metadata": {},
   "source": [
    "Statistics can be broadly classified into two main types: descriptive statistics and inferential statistics."
   ]
  },
  {
   "cell_type": "code",
   "execution_count": 2,
   "id": "e52c4cdb-70b6-412f-979f-a3a4f9d4e2da",
   "metadata": {},
   "outputs": [
    {
     "data": {
      "text/plain": [
       "'Measures of Central Tendency: These statistics indicate the central or average value of a dataset. Common measures include mean, median, and mode. For example, the average height of students in a classroom.'"
      ]
     },
     "execution_count": 2,
     "metadata": {},
     "output_type": "execute_result"
    }
   ],
   "source": [
    "# 1. descriptive stastitics\n",
    "\" it consists of  the organing and summaring data\"\n",
    "\"Descriptive statistics involve methods for organizing, summarizing, and presenting data in a meaningful way. These statistics describe the main features of a dataset.\"\n",
    "\n",
    "\"Measures of Central Tendency: These statistics indicate the central or average value of a dataset. Common measures include mean, median, and mode. For example, the average height of students in a classroom.\""
   ]
  },
  {
   "cell_type": "code",
   "execution_count": 4,
   "id": "98e90436-da6e-4fb6-9595-457137a70dc4",
   "metadata": {},
   "outputs": [
    {
     "data": {
      "text/plain": [
       "\"Suppose you want to determine whether there's a significant difference in the average income between two different cities. You can collect income data from a sample of residents in each city and perform a t-test to infer whether the difference in means is statistically significant.\""
      ]
     },
     "execution_count": 4,
     "metadata": {},
     "output_type": "execute_result"
    }
   ],
   "source": [
    "\"Inferential Statistics:\"\n",
    "\"Inferential statistics are used to make inferences and predictions about a population based on a sample of data.\"\n",
    "\n",
    "\"Example:\"\n",
    "\"Suppose you want to determine whether there's a significant difference in the average income between two different cities. You can collect income data from a sample of residents in each city and perform a t-test to infer whether the difference in means is statistically significant.\""
   ]
  },
  {
   "cell_type": "markdown",
   "id": "b424c64a-1daa-49a2-a656-fdef4594f830",
   "metadata": {},
   "source": [
    "Q3. What are the different types of data and how do they differ from each other? Provide an example of\n",
    "each type of data."
   ]
  },
  {
   "cell_type": "code",
   "execution_count": 5,
   "id": "42e4b44c-59a1-428d-93bf-500aae97f0c9",
   "metadata": {},
   "outputs": [
    {
     "data": {
      "text/plain": [
       "'Nominal Data:\\n\\nNominal data represent categories or labels with no inherent order or ranking.\\nIt is the simplest form of data.\\nOperations such as counting and frequency calculation are typically performed on nominal data.\\nExample:\\n\\nColors of cars (e.g., red, blue, green)\\nTypes of animals (e.g., cat, dog, bird)'"
      ]
     },
     "execution_count": 5,
     "metadata": {},
     "output_type": "execute_result"
    }
   ],
   "source": [
    "\"\"\"Nominal Data:\n",
    "\n",
    "Nominal data represent categories or labels with no inherent order or ranking.\n",
    "It is the simplest form of data.\n",
    "Operations such as counting and frequency calculation are typically performed on nominal data.\n",
    "Example:\n",
    "\n",
    "Colors of cars (e.g., red, blue, green)\n",
    "Types of animals (e.g., cat, dog, bird)\"\"\""
   ]
  },
  {
   "cell_type": "code",
   "execution_count": 6,
   "id": "37dbe719-f758-47ef-9675-62e942fb71c8",
   "metadata": {},
   "outputs": [
    {
     "data": {
      "text/plain": [
       "\"Ordinal Data:\\n\\nOrdinal data represent categories with a natural order or ranking.\\nThe differences between categories may not be uniform.\\nOperations such as ranking, sorting, and comparison are possible, but arithmetic operations are not meaningful.\\nExample:\\n\\nEducation level (e.g., high school diploma, bachelor's degree, master's degree)\\nLikert scale responses (e.g., strongly disagree, disagree, neutral, agree, strongly agree)\""
      ]
     },
     "execution_count": 6,
     "metadata": {},
     "output_type": "execute_result"
    }
   ],
   "source": [
    "\"\"\"Ordinal Data:\n",
    "\n",
    "Ordinal data represent categories with a natural order or ranking.\n",
    "The differences between categories may not be uniform.\n",
    "Operations such as ranking, sorting, and comparison are possible, but arithmetic operations are not meaningful.\n",
    "Example:\n",
    "\n",
    "Education level (e.g., high school diploma, bachelor's degree, master's degree)\n",
    "Likert scale responses (e.g., strongly disagree, disagree, neutral, agree, strongly agree)\"\"\""
   ]
  },
  {
   "cell_type": "code",
   "execution_count": 7,
   "id": "8013fffb-342e-4c9f-81c5-889129140d6a",
   "metadata": {},
   "outputs": [
    {
     "data": {
      "text/plain": [
       "'Interval Data:\\n\\nInterval data represent numerical values where the difference between any two values is meaningful.\\nZero point is arbitrary, and ratios are not meaningful.\\nArithmetic operations such as addition and subtraction are meaningful, but multiplication and division are not.\\nExample:\\n\\nTemperature measured in Celsius or Fahrenheit\\nCalendar dates (e.g., January 1st, February 15th)'"
      ]
     },
     "execution_count": 7,
     "metadata": {},
     "output_type": "execute_result"
    }
   ],
   "source": [
    "\"\"\"Interval Data:\n",
    "\n",
    "Interval data represent numerical values where the difference between any two values is meaningful.\n",
    "Zero point is arbitrary, and ratios are not meaningful.\n",
    "Arithmetic operations such as addition and subtraction are meaningful, but multiplication and division are not.\n",
    "Example:\n",
    "\n",
    "Temperature measured in Celsius or Fahrenheit\n",
    "Calendar dates (e.g., January 1st, February 15th)\"\"\""
   ]
  },
  {
   "cell_type": "code",
   "execution_count": 8,
   "id": "84cc3438-a1fa-4a73-a08b-7299c662b634",
   "metadata": {},
   "outputs": [
    {
     "data": {
      "text/plain": [
       "'Ratio Data:\\n\\nRatio data represent numerical values where both the difference between values and ratios are meaningful.\\nIt has a true zero point.\\nAll arithmetic operations are meaningful.\\nExample:\\n\\nHeight (e.g., measured in centimeters or inches)\\nWeight (e.g., measured in kilograms or pounds)'"
      ]
     },
     "execution_count": 8,
     "metadata": {},
     "output_type": "execute_result"
    }
   ],
   "source": [
    "\"\"\"Ratio Data:\n",
    "\n",
    "Ratio data represent numerical values where both the difference between values and ratios are meaningful.\n",
    "It has a true zero point.\n",
    "All arithmetic operations are meaningful.\n",
    "Example:\n",
    "\n",
    "Height (e.g., measured in centimeters or inches)\n",
    "Weight (e.g., measured in kilograms or pounds)\"\"\""
   ]
  },
  {
   "cell_type": "markdown",
   "id": "cb2cf714-7f85-4f23-bca3-2139ae9aa249",
   "metadata": {},
   "source": [
    "Q4. Categorise the following datasets with respect to quantitative and qualitative data types:\n",
    "(i) Grading in exam: A+, A, B+, B, C+, C, D, E\n",
    "(ii) Colour of mangoes: yellow, green, orange, red\n",
    "(iii) Height data of a class: [178.9, 179, 179.5, 176, 177.2, 178.3, 175.8,...]\n",
    "(iv) Number of mangoes exported by a farm: [500, 600, 478, 672, ...]"
   ]
  },
  {
   "cell_type": "code",
   "execution_count": 10,
   "id": "64a8a3f5-f5b5-4675-9108-4bbb1c4559df",
   "metadata": {},
   "outputs": [
    {
     "data": {
      "text/plain": [
       "\"i) Grading in exam:\\n\\nQualitative data (Ordinal): The grades (A+, A, B+, B, C+, C, D, E) represent categories with a natural order or ranking. However, the differences between the grades may not be uniform.\\n(ii) Colour of mangoes:\\n\\nQualitative data (Nominal): The colors of mangoes (yellow, green, orange, red) represent categories or labels with no inherent order or ranking.\\n(iii) Height data of a class:\\n\\nQuantitative data (Continuous, Ratio): The heights represent numerical values where both the difference between values and ratios are meaningful. Therefore, it falls under quantitative data.\\n(iv) Number of mangoes exported by a farm:\\n\\nQuantitative data (Discrete, Ratio): The number of mangoes exported represents numerical values where the difference between values and ratios are meaningful. It's discrete as you can't have fractions of mangoes, but only whole numbers. Therefore, it falls under quantitative data.\\nIn summary:\\n\\nGrading in exam and Color of mangoes are qualitative data.\\nHeight data of a class and Number of mangoes exported by a farm are quantitative data.\""
      ]
     },
     "execution_count": 10,
     "metadata": {},
     "output_type": "execute_result"
    }
   ],
   "source": [
    "\"\"\"i) Grading in exam:\n",
    "\n",
    "Qualitative data (Ordinal): The grades (A+, A, B+, B, C+, C, D, E) represent categories with a natural order or ranking. However, the differences between the grades may not be uniform.\n",
    "(ii) Colour of mangoes:\n",
    "\n",
    "Qualitative data (Nominal): The colors of mangoes (yellow, green, orange, red) represent categories or labels with no inherent order or ranking.\n",
    "(iii) Height data of a class:\n",
    "\n",
    "Quantitative data (Continuous, Ratio): The heights represent numerical values where both the difference between values and ratios are meaningful. Therefore, it falls under quantitative data.\n",
    "(iv) Number of mangoes exported by a farm:\n",
    "\n",
    "Quantitative data (Discrete, Ratio): The number of mangoes exported represents numerical values where the difference between values and ratios are meaningful. It's discrete as you can't have fractions of mangoes, but only whole numbers. Therefore, it falls under quantitative data.\n",
    "In summary:\n",
    "\n",
    "Grading in exam and Color of mangoes are qualitative data.\n",
    "Height data of a class and Number of mangoes exported by a farm are quantitative data.\"\"\""
   ]
  },
  {
   "cell_type": "markdown",
   "id": "822df1b9-6332-42e2-b129-1efc6a9fbd04",
   "metadata": {},
   "source": [
    "Q5. Explain the concept of levels of measurement and give an example of a variable for each level."
   ]
  },
  {
   "cell_type": "code",
   "execution_count": 11,
   "id": "65f89321-b89d-4e20-a8c6-74e5f9216522",
   "metadata": {},
   "outputs": [
    {
     "data": {
      "text/plain": [
       "\"Nominal Level of Measurement:\\n\\nNominal variables represent categories or labels with no inherent order or ranking.\\nData at this level can be classified into mutually exclusive categories.\\nExamples: Gender (male, female), Eye color (blue, brown, green), Marital status (single, married, divorced).\\nOrdinal Level of Measurement:\\n\\nOrdinal variables represent categories with a natural order or ranking.\\nDifferences between categories may not be uniform or measurable.\\nExamples: Educational level (high school diploma, bachelor's degree, master's degree), Likert scale responses (strongly disagree, disagree, neutral, agree, strongly agree), Socio-economic status (low, middle, high).\\nInterval Level of Measurement:\\n\\nInterval variables represent numerical values where the difference between any two values is meaningful.\\nZero point is arbitrary, and ratios are not meaningful.\\nExamples: Temperature measured in Celsius or Fahrenheit, Calendar dates (January 1st, February 15th).\\nRatio Level of Measurement:\\n\\nRatio variables represent numerical values where both the difference between values and ratios are meaningful.\\nIt has a true zero point.\\nExamples: Height (measured in centimeters or inches), Weight (measured in kilograms or pounds), Income (measured in dollars).\""
      ]
     },
     "execution_count": 11,
     "metadata": {},
     "output_type": "execute_result"
    }
   ],
   "source": [
    "\"\"\"Nominal Level of Measurement:\n",
    "\n",
    "Nominal variables represent categories or labels with no inherent order or ranking.\n",
    "Data at this level can be classified into mutually exclusive categories.\n",
    "Examples: Gender (male, female), Eye color (blue, brown, green), Marital status (single, married, divorced).\n",
    "Ordinal Level of Measurement:\n",
    "\n",
    "Ordinal variables represent categories with a natural order or ranking.\n",
    "Differences between categories may not be uniform or measurable.\n",
    "Examples: Educational level (high school diploma, bachelor's degree, master's degree), Likert scale responses (strongly disagree, disagree, neutral, agree, strongly agree), Socio-economic status (low, middle, high).\n",
    "Interval Level of Measurement:\n",
    "\n",
    "Interval variables represent numerical values where the difference between any two values is meaningful.\n",
    "Zero point is arbitrary, and ratios are not meaningful.\n",
    "Examples: Temperature measured in Celsius or Fahrenheit, Calendar dates (January 1st, February 15th).\n",
    "Ratio Level of Measurement:\n",
    "\n",
    "Ratio variables represent numerical values where both the difference between values and ratios are meaningful.\n",
    "It has a true zero point.\n",
    "Examples: Height (measured in centimeters or inches), Weight (measured in kilograms or pounds), Income (measured in dollars).\"\"\""
   ]
  },
  {
   "cell_type": "markdown",
   "id": "e95cdb9c-1a6d-44e6-a71d-4439bd58c6ea",
   "metadata": {},
   "source": [
    "Q6. Why is it important to understand the level of measurement when analyzing data? Provide an\n",
    "example to illustrate your answer."
   ]
  },
  {
   "cell_type": "code",
   "execution_count": 12,
   "id": "225d818f-932d-43df-a480-4e4ab48ad197",
   "metadata": {},
   "outputs": [
    {
     "data": {
      "text/plain": [
       "'Selection of Statistical Techniques:\\nDifferent levels of measurement require different statistical techniques. For example, nominal data typically require frequency counts, cross-tabulations, and chi-square tests, while interval or ratio data may require parametric tests like t-tests or ANOVA. Using the wrong statistical technique for a given level of measurement can lead to erroneous conclusions.\\n\\nInterpretation of Results:\\nThe level of measurement influences the interpretation of results. For instance, when analyzing ordinal data, one can determine the order of categories but not the magnitude of differences between them. Understanding this limitation is essential for drawing accurate conclusions.\\n\\nData Transformation:\\nUnderstanding the level of measurement helps in deciding whether data transformation is necessary. For instance, interval data may require transformation to meet the assumptions of certain statistical tests, such as normality for parametric tests.\\n\\nAppropriate Visualization:\\nDifferent levels of measurement lend themselves to different types of data visualization techniques. Nominal data may be best represented using bar charts or pie charts, while interval or ratio data may be better represented using histograms or line graphs.\\n\\nAvoiding Misinterpretation:\\nMisinterpretation of data can occur if the level of measurement is not considered. For example, treating ordinal data as interval data and calculating the mean can lead to misleading interpretations because the distances between categories are not necessarily equal.'"
      ]
     },
     "execution_count": 12,
     "metadata": {},
     "output_type": "execute_result"
    }
   ],
   "source": [
    "\"\"\"Selection of Statistical Techniques:\n",
    "Different levels of measurement require different statistical techniques. For example, nominal data typically require frequency counts, cross-tabulations, and chi-square tests, while interval or ratio data may require parametric tests like t-tests or ANOVA. Using the wrong statistical technique for a given level of measurement can lead to erroneous conclusions.\n",
    "\n",
    "Interpretation of Results:\n",
    "The level of measurement influences the interpretation of results. For instance, when analyzing ordinal data, one can determine the order of categories but not the magnitude of differences between them. Understanding this limitation is essential for drawing accurate conclusions.\n",
    "\n",
    "Data Transformation:\n",
    "Understanding the level of measurement helps in deciding whether data transformation is necessary. For instance, interval data may require transformation to meet the assumptions of certain statistical tests, such as normality for parametric tests.\n",
    "\n",
    "Appropriate Visualization:\n",
    "Different levels of measurement lend themselves to different types of data visualization techniques. Nominal data may be best represented using bar charts or pie charts, while interval or ratio data may be better represented using histograms or line graphs.\n",
    "\n",
    "Avoiding Misinterpretation:\n",
    "Misinterpretation of data can occur if the level of measurement is not considered. For example, treating ordinal data as interval data and calculating the mean can lead to misleading interpretations because the distances between categories are not necessarily equal.\"\"\""
   ]
  },
  {
   "cell_type": "markdown",
   "id": "7ff984b0-8143-47c7-bf05-a1ad1396ea73",
   "metadata": {},
   "source": [
    "Q7. How nominal data type is different from ordinal data type."
   ]
  },
  {
   "cell_type": "code",
   "execution_count": 13,
   "id": "a7c87a7d-132a-4633-b8cf-17193cb56457",
   "metadata": {},
   "outputs": [
    {
     "data": {
      "text/plain": [
       "\"Nominal Data:\\n\\nNominal data represent categories or labels with no inherent order or ranking.\\nThe categories are mutually exclusive and do not have a natural order.\\nNominal data only allow for qualitative classification.\\nExamples: Gender (male, female), Eye color (blue, brown, green), Marital status (single, married, divorced).\\nOrdinal Data:\\n\\nOrdinal data represent categories with a natural order or ranking.\\nThe categories have a defined sequence, but the differences between them may not be uniform or measurable.\\nOrdinal data allow for both qualitative classification and relative ranking.\\nExamples: Educational level (high school diploma, bachelor's degree, master's degree), Likert scale responses (strongly disagree, disagree, neutral, agree, strongly agree), Socio-economic status (low, middle, high).\""
      ]
     },
     "execution_count": 13,
     "metadata": {},
     "output_type": "execute_result"
    }
   ],
   "source": [
    "\"\"\"Nominal Data:\n",
    "\n",
    "Nominal data represent categories or labels with no inherent order or ranking.\n",
    "The categories are mutually exclusive and do not have a natural order.\n",
    "Nominal data only allow for qualitative classification.\n",
    "Examples: Gender (male, female), Eye color (blue, brown, green), Marital status (single, married, divorced).\n",
    "Ordinal Data:\n",
    "\n",
    "Ordinal data represent categories with a natural order or ranking.\n",
    "The categories have a defined sequence, but the differences between them may not be uniform or measurable.\n",
    "Ordinal data allow for both qualitative classification and relative ranking.\n",
    "Examples: Educational level (high school diploma, bachelor's degree, master's degree), Likert scale responses (strongly disagree, disagree, neutral, agree, strongly agree), Socio-economic status (low, middle, high).\"\"\""
   ]
  },
  {
   "cell_type": "markdown",
   "id": "77141662-1065-4d38-bf14-740b891c3ae6",
   "metadata": {},
   "source": [
    "Q8. Which type of plot can be used to display data in terms of range?"
   ]
  },
  {
   "cell_type": "code",
   "execution_count": 14,
   "id": "d0ecc0b2-f7b0-42ee-b152-a76b1fa7a3e3",
   "metadata": {},
   "outputs": [
    {
     "data": {
      "text/plain": [
       "'A box plot provides a visual summary of the central tendency, dispersion, and skewness of a dataset. It displays the range of the data along with key statistics such as the median, quartiles, and potential outliers. The \"box\" in a box plot represents the interquartile range (IQR), which encompasses the middle 50% of the data, while the \"whiskers\" extend to the minimum and maximum values within a certain range, typically defined as 1.5 times the IQR from the quartiles.\\n\\nBox plots are particularly useful for comparing distributions of continuous data across different groups or categories, identifying outliers, and visualizing the spread of the data.'"
      ]
     },
     "execution_count": 14,
     "metadata": {},
     "output_type": "execute_result"
    }
   ],
   "source": [
    "\"\"\"A box plot provides a visual summary of the central tendency, dispersion, and skewness of a dataset. It displays the range of the data along with key statistics such as the median, quartiles, and potential outliers. The \"box\" in a box plot represents the interquartile range (IQR), which encompasses the middle 50% of the data, while the \"whiskers\" extend to the minimum and maximum values within a certain range, typically defined as 1.5 times the IQR from the quartiles.\n",
    "\n",
    "Box plots are particularly useful for comparing distributions of continuous data across different groups or categories, identifying outliers, and visualizing the spread of the data.\"\"\""
   ]
  },
  {
   "cell_type": "markdown",
   "id": "e6eabcf0-b2a2-422f-9cda-35f359a7793b",
   "metadata": {},
   "source": [
    "Q9. Describe the difference between descriptive and inferential statistics. Give an example of each\n",
    "type of statistics and explain how they are used."
   ]
  },
  {
   "cell_type": "code",
   "execution_count": 15,
   "id": "94d82f52-789a-4b1b-93ab-baa9bee6513d",
   "metadata": {},
   "outputs": [
    {
     "data": {
      "text/plain": [
       "'Descriptive Statistics:\\n\\nDescriptive statistics involve methods for summarizing and describing the main features of a dataset.\\nThey focus on organizing, visualizing, and summarizing data to provide insights into its characteristics.\\nDescriptive statistics do not involve making inferences or generalizations beyond the data at hand.\\nExample: Calculating the mean, median, and standard deviation of exam scores for a class of students.\\nHow they are used:\\n\\nDescriptive statistics are used to provide a clear and concise summary of the data, enabling researchers to understand its central tendencies, variability, and distribution.\\nThey help in identifying patterns, trends, and relationships within the dataset, which can inform further analysis or decision-making.\\nInferential Statistics:\\n\\nInferential statistics involve making inferences, predictions, or generalizations about a population based on a sample of data.\\nThey extend the findings from the sample to the larger population, allowing researchers to draw conclusions beyond the immediate data.\\nInferential statistics rely on probability theory and hypothesis testing to assess the likelihood of observed differences or relationships occurring by chance.\\nExample: Conducting a hypothesis test to determine whether there is a significant difference in exam scores between two groups of students (e.g., those who received tutoring vs. those who did not).\\nHow they are used:\\n\\nInferential statistics are used to make predictions, test hypotheses, and draw conclusions about populations based on sample data.\\nThey help researchers assess the significance of relationships, differences, or effects observed in the sample, providing insights into broader phenomena or trends.\\nInferential statistics play a crucial role in scientific research, decision-making, and policy formulation by enabling researchers to make informed judgments and recommendations based on empirical evidence.'"
      ]
     },
     "execution_count": 15,
     "metadata": {},
     "output_type": "execute_result"
    }
   ],
   "source": [
    "\"\"\"Descriptive Statistics:\n",
    "\n",
    "Descriptive statistics involve methods for summarizing and describing the main features of a dataset.\n",
    "They focus on organizing, visualizing, and summarizing data to provide insights into its characteristics.\n",
    "Descriptive statistics do not involve making inferences or generalizations beyond the data at hand.\n",
    "Example: Calculating the mean, median, and standard deviation of exam scores for a class of students.\n",
    "How they are used:\n",
    "\n",
    "Descriptive statistics are used to provide a clear and concise summary of the data, enabling researchers to understand its central tendencies, variability, and distribution.\n",
    "They help in identifying patterns, trends, and relationships within the dataset, which can inform further analysis or decision-making.\n",
    "Inferential Statistics:\n",
    "\n",
    "Inferential statistics involve making inferences, predictions, or generalizations about a population based on a sample of data.\n",
    "They extend the findings from the sample to the larger population, allowing researchers to draw conclusions beyond the immediate data.\n",
    "Inferential statistics rely on probability theory and hypothesis testing to assess the likelihood of observed differences or relationships occurring by chance.\n",
    "Example: Conducting a hypothesis test to determine whether there is a significant difference in exam scores between two groups of students (e.g., those who received tutoring vs. those who did not).\n",
    "How they are used:\n",
    "\n",
    "Inferential statistics are used to make predictions, test hypotheses, and draw conclusions about populations based on sample data.\n",
    "They help researchers assess the significance of relationships, differences, or effects observed in the sample, providing insights into broader phenomena or trends.\n",
    "Inferential statistics play a crucial role in scientific research, decision-making, and policy formulation by enabling researchers to make informed judgments and recommendations based on empirical evidence.\"\"\""
   ]
  },
  {
   "cell_type": "markdown",
   "id": "f017a9b7-c35e-4701-a2b3-7aae689d0de0",
   "metadata": {},
   "source": [
    "Q10. What are some common measures of central tendency and variability used in statistics? Explain\n",
    "how each measure can be used to describe a dataset."
   ]
  },
  {
   "cell_type": "code",
   "execution_count": 16,
   "id": "b37d1ef5-b96c-45fc-9a46-e88d190507f2",
   "metadata": {},
   "outputs": [
    {
     "data": {
      "text/plain": [
       "'Measures of Central Tendency:\\nThese measures indicate the central or typical value of a dataset.\\n\\na. Mean:\\n\\nThe arithmetic average of all values in the dataset.\\nCalculated by summing all values and dividing by the total number of values.\\nExample: Mean exam score in a class provides a single value representing the typical performance of students.\\nb. Median:\\n\\nThe middle value of the dataset when arranged in ascending or descending order.\\nIf there is an even number of data points, the median is the average of the two middle values.\\nExample: Median household income provides a value representing the income level at which half of the households earn more and half earn less.\\nc. Mode:\\n\\nThe most frequently occurring value(s) in the dataset.\\nA dataset may have one mode (unimodal), two modes (bimodal), or more than two modes (multimodal).\\nExample: Mode of transportation to work in a city provides insight into the most common method used by residents.\\nMeasures of Variability:\\nThese measures quantify the spread or dispersion of values within a dataset.\\n\\na. Range:\\n\\nThe difference between the maximum and minimum values in the dataset.\\nProvides a simple measure of the spread but is sensitive to outliers.\\nExample: Range of test scores in a class indicates the extent of variation among student performance.\\nb. Variance:\\n\\nThe average of the squared differences between each value and the mean.\\nProvides a measure of how much the values in the dataset deviate from the mean.\\nExample: Variance of stock returns measures the volatility or risk associated with investing in a particular stock.\\nc. Standard Deviation:\\n\\nThe square root of the variance.\\nProvides a measure of the average distance of values from the mean.\\nWidely used due to its intuitive interpretation and compatibility with the mean.\\nExample: Standard deviation of monthly temperatures indicates the variability in temperature from the average over time.'"
      ]
     },
     "execution_count": 16,
     "metadata": {},
     "output_type": "execute_result"
    }
   ],
   "source": [
    "'''Measures of Central Tendency:\n",
    "These measures indicate the central or typical value of a dataset.\n",
    "\n",
    "a. Mean:\n",
    "\n",
    "The arithmetic average of all values in the dataset.\n",
    "Calculated by summing all values and dividing by the total number of values.\n",
    "Example: Mean exam score in a class provides a single value representing the typical performance of students.\n",
    "b. Median:\n",
    "\n",
    "The middle value of the dataset when arranged in ascending or descending order.\n",
    "If there is an even number of data points, the median is the average of the two middle values.\n",
    "Example: Median household income provides a value representing the income level at which half of the households earn more and half earn less.\n",
    "c. Mode:\n",
    "\n",
    "The most frequently occurring value(s) in the dataset.\n",
    "A dataset may have one mode (unimodal), two modes (bimodal), or more than two modes (multimodal).\n",
    "Example: Mode of transportation to work in a city provides insight into the most common method used by residents.\n",
    "Measures of Variability:\n",
    "These measures quantify the spread or dispersion of values within a dataset.\n",
    "\n",
    "a. Range:\n",
    "\n",
    "The difference between the maximum and minimum values in the dataset.\n",
    "Provides a simple measure of the spread but is sensitive to outliers.\n",
    "Example: Range of test scores in a class indicates the extent of variation among student performance.\n",
    "b. Variance:\n",
    "\n",
    "The average of the squared differences between each value and the mean.\n",
    "Provides a measure of how much the values in the dataset deviate from the mean.\n",
    "Example: Variance of stock returns measures the volatility or risk associated with investing in a particular stock.\n",
    "c. Standard Deviation:\n",
    "\n",
    "The square root of the variance.\n",
    "Provides a measure of the average distance of values from the mean.\n",
    "Widely used due to its intuitive interpretation and compatibility with the mean.\n",
    "Example: Standard deviation of monthly temperatures indicates the variability in temperature from the average over time.'''"
   ]
  },
  {
   "cell_type": "code",
   "execution_count": null,
   "id": "219e8761-7259-436e-84b5-f592120edcd6",
   "metadata": {},
   "outputs": [],
   "source": []
  }
 ],
 "metadata": {
  "kernelspec": {
   "display_name": "Python 3 (ipykernel)",
   "language": "python",
   "name": "python3"
  },
  "language_info": {
   "codemirror_mode": {
    "name": "ipython",
    "version": 3
   },
   "file_extension": ".py",
   "mimetype": "text/x-python",
   "name": "python",
   "nbconvert_exporter": "python",
   "pygments_lexer": "ipython3",
   "version": "3.10.8"
  }
 },
 "nbformat": 4,
 "nbformat_minor": 5
}
